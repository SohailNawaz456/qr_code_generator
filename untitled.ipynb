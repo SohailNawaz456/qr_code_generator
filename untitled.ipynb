{
  "nbformat": 4,
  "nbformat_minor": 0,
  "metadata": {
    "colab": {
      "provenance": [],
      "authorship_tag": "ABX9TyN5dAqDdxvuwi1WHEOOtF/Q",
      "include_colab_link": true
    },
    "kernelspec": {
      "name": "python3",
      "display_name": "Python 3"
    },
    "language_info": {
      "name": "python"
    }
  },
  "cells": [
    {
      "cell_type": "markdown",
      "metadata": {
        "id": "view-in-github",
        "colab_type": "text"
      },
      "source": [
        "<a href=\"https://colab.research.google.com/github/SohailNawaz456/qr_code_generator/blob/main/untitled.ipynb\" target=\"_parent\"><img src=\"https://colab.research.google.com/assets/colab-badge.svg\" alt=\"Open In Colab\"/></a>"
      ]
    },
    {
      "cell_type": "code",
      "execution_count": 1,
      "metadata": {
        "colab": {
          "base_uri": "https://localhost:8080/"
        },
        "id": "lm5FKFD5I8CL",
        "outputId": "a3fbcb47-4b3d-42d6-eb2e-31ebc26462ca"
      },
      "outputs": [
        {
          "output_type": "stream",
          "name": "stdout",
          "text": [
            "Collecting qrcode[pil]\n",
            "  Downloading qrcode-8.0-py3-none-any.whl.metadata (17 kB)\n",
            "Requirement already satisfied: pillow>=9.1.0 in /usr/local/lib/python3.11/dist-packages (from qrcode[pil]) (11.1.0)\n",
            "Downloading qrcode-8.0-py3-none-any.whl (45 kB)\n",
            "\u001b[?25l   \u001b[90m━━━━━━━━━━━━━━━━━━━━━━━━━━━━━━━━━━━━━━━━\u001b[0m \u001b[32m0.0/45.7 kB\u001b[0m \u001b[31m?\u001b[0m eta \u001b[36m-:--:--\u001b[0m\r\u001b[2K   \u001b[90m━━━━━━━━━━━━━━━━━━━━━━━━━━━━━━━━━━━━━━━━\u001b[0m \u001b[32m45.7/45.7 kB\u001b[0m \u001b[31m1.6 MB/s\u001b[0m eta \u001b[36m0:00:00\u001b[0m\n",
            "\u001b[?25hInstalling collected packages: qrcode\n",
            "Successfully installed qrcode-8.0\n"
          ]
        }
      ],
      "source": [
        "!pip install qrcode[pil]\n"
      ]
    },
    {
      "cell_type": "code",
      "source": [
        "import qrcode\n",
        "from PIL import Image, ImageDraw, ImageFont\n",
        "import IPython.display as display\n",
        "from google.colab import files\n",
        "\n",
        "# Data to be stored in QR code\n",
        "data = \"https://www.google.com\"  # Change this to your desired URL or text\n",
        "\n",
        "# Generate QR code\n",
        "qr = qrcode.QRCode(\n",
        "    version=1,\n",
        "    error_correction=qrcode.constants.ERROR_CORRECT_L,\n",
        "    box_size=10,\n",
        "    border=4\n",
        ")\n",
        "\n",
        "qr.add_data(data)\n",
        "qr.make(fit=True)\n",
        "\n",
        "# Create an image with green color\n",
        "qr_img = qr.make_image(fill_color=\"green\", back_color=\"white\").convert('RGB')\n",
        "\n",
        "# Add text below the QR code\n",
        "text = \"✅ Created by Sohail Nawaz 🚀\"\n",
        "font_size = 20\n",
        "\n",
        "# Create a blank white image to place text below the QR code\n",
        "text_img = Image.new('RGB', (qr_img.width, qr_img.height + 50), \"white\")\n",
        "draw = ImageDraw.Draw(text_img)\n",
        "\n",
        "# Load default font (Colab does not support custom fonts easily)\n",
        "try:\n",
        "    font = ImageFont.truetype(\"arial.ttf\", font_size)\n",
        "except:\n",
        "    font = ImageFont.load_default()\n",
        "\n",
        "# Calculate text position using textbbox() (instead of textsize())\n",
        "bbox = draw.textbbox((0, 0), text, font=font)\n",
        "text_width = bbox[2] - bbox[0]\n",
        "text_height = bbox[3] - bbox[1]\n",
        "text_x = (qr_img.width - text_width) // 2\n",
        "text_y = qr_img.height + 10\n",
        "\n",
        "# Paste the QR code onto the new image\n",
        "text_img.paste(qr_img, (0, 0))\n",
        "\n",
        "# Draw the text below the QR code\n",
        "draw.text((text_x, text_y), text, fill=\"black\", font=font)\n",
        "\n",
        "# Display the final image\n",
        "display.display(text_img)\n",
        "\n",
        "# Save the final image\n",
        "text_img.save(\"qrcode_green_with_text.png\")\n",
        "\n",
        "# Download the image\n",
        "files.download(\"qrcode_green_with_text.png\")\n"
      ],
      "metadata": {
        "colab": {
          "base_uri": "https://localhost:8080/",
          "height": 397
        },
        "id": "TiLVvwntMqw5",
        "outputId": "3853abf5-3f1b-47fa-b6e5-f17a5a29bd1d"
      },
      "execution_count": 12,
      "outputs": [
        {
          "output_type": "display_data",
          "data": {
            "text/plain": [
              "<PIL.Image.Image image mode=RGB size=330x380>"
            ],
            "image/png": "[encoded data removed]",
            "image/jpeg": "[encoded data removed]"
          },
          "metadata": {}
        },
        {
          "output_type": "display_data",
          "data": {
            "text/plain": [
              "<IPython.core.display.Javascript object>"
            ],
            "application/javascript": [
              "\n",
              "    async function download(id, filename, size) {\n",
              "      if (!google.colab.kernel.accessAllowed) {\n",
              "        return;\n",
              "      }\n",
              "      const div = document.createElement('div');\n",
              "      const label = document.createElement('label');\n",
              "      label.textContent = `Downloading \"${filename}\": `;\n",
              "      div.appendChild(label);\n",
              "      const progress = document.createElement('progress');\n",
              "      progress.max = size;\n",
              "      div.appendChild(progress);\n",
              "      document.body.appendChild(div);\n",
              "\n",
              "      const buffers = [];\n",
              "      let downloaded = 0;\n",
              "\n",
              "      const channel = await google.colab.kernel.comms.open(id);\n",
              "      // Send a message to notify the kernel that we're ready.\n",
              "      channel.send({})\n",
              "\n",
              "      for await (const message of channel.messages) {\n",
              "        // Send a message to notify the kernel that we're ready.\n",
              "        channel.send({})\n",
              "        if (message.buffers) {\n",
              "          for (const buffer of message.buffers) {\n",
              "            buffers.push(buffer);\n",
              "            downloaded += buffer.byteLength;\n",
              "            progress.value = downloaded;\n",
              "          }\n",
              "        }\n",
              "      }\n",
              "      const blob = new Blob(buffers, {type: 'application/binary'});\n",
              "      const a = document.createElement('a');\n",
              "      a.href = window.URL.createObjectURL(blob);\n",
              "      a.download = filename;\n",
              "      div.appendChild(a);\n",
              "      a.click();\n",
              "      div.remove();\n",
              "    }\n",
              "  "
            ]
          },
          "metadata": {}
        },
        {
          "output_type": "display_data",
          "data": {
            "text/plain": [
              "<IPython.core.display.Javascript object>"
            ],
            "application/javascript": [
              "download(\"download_eb80d46e-a160-4fcb-a144-a8ae66be2085\", \"qrcode_green_with_text.png\", 3385)"
            ]
          },
          "metadata": {}
        }
      ]
    }
  ]
}